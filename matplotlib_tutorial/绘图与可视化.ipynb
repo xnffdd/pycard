{
 "cells": [
  {
   "cell_type": "markdown",
   "metadata": {},
   "source": [
    "# 绘图与可视化"
   ]
  },
  {
   "cell_type": "code",
   "execution_count": null,
   "metadata": {},
   "outputs": [],
   "source": [
    "import numpy as np\n",
    "import pandas as pd\n",
    "import datetime\n",
    "datetime.datetime.now().strftime('%Y-%m-%d %H:%M:%S')"
   ]
  },
  {
   "cell_type": "markdown",
   "metadata": {},
   "source": [
    "# 为什么要使用Python进行数据分析"
   ]
  },
  {
   "cell_type": "markdown",
   "metadata": {},
   "source": [
    "![编程语言排行榜](./language_top.png)来源(https://www.tiobe.com/tiobe-index/)"
   ]
  },
  {
   "cell_type": "markdown",
   "metadata": {},
   "source": [
    "- 商业统计语言如 SAS，Stata 和 SPSS 的软件的时代已经过去， 大学和研究机构开始采用 Python 和 R 进行统计分析。\n",
    "- Python作为胶水语言\n",
    "- 解决“两种语言”问题\n",
    "- 数据分析重要的Python库\n",
    "     - NumPy、pandas、matplotlib、IPython和Jupyter、SciPy、scikit-learn、statsmodels"
   ]
  },
  {
   "cell_type": "markdown",
   "metadata": {},
   "source": [
    "# Matplotlib简介"
   ]
  },
  {
   "cell_type": "markdown",
   "metadata": {},
   "source": [
    "matplotlib是Python编程语言及其数值数学扩展包 NumPy的可视化操作界面。它利用通用的图形用户界面工具包，如Tkinter, wxPython, Qt或GTK+，向应用程序嵌入式绘图提供了应用程序接口（API）。此外，matplotlib还有一个基于图像处理库（如开放图形库OpenGL）的pylab接口，其设计与MATLAB非常类似。SciPy就是用matplotlib进行图形绘制。\n",
    "\n",
    "matplotlib最初由John D. Hunter撰写，它拥有一个活跃的开发社区，并且根据BSD样式许可证分发。 在John D. Hunter2012年去世前不久，Michael Droettboom被提名为matplotlib的主要开发者。"
   ]
  },
  {
   "cell_type": "markdown",
   "metadata": {},
   "source": [
    "# 一个简单的例子"
   ]
  },
  {
   "cell_type": "code",
   "execution_count": null,
   "metadata": {},
   "outputs": [],
   "source": [
    "# 引入matplotlib库\n",
    "import matplotlib.pyplot as plt\n",
    "import numpy as np\n",
    "plt.rcParams['font.sans-serif']=['SimHei'] #用来正常显示中文标签\n",
    "plt.rcParams['axes.unicode_minus']=False #用来正常显示负号"
   ]
  },
  {
   "cell_type": "code",
   "execution_count": null,
   "metadata": {},
   "outputs": [],
   "source": [
    "fig, ax = plt.subplots() # 创建一个包含一个坐标系的画布\n",
    "ax.plot([1, 2, 3, 4], [1, 4, 2, 3]) # 在坐标系上画出数据"
   ]
  },
  {
   "cell_type": "markdown",
   "metadata": {},
   "source": [
    "# 图的组成元素\n",
    "\n",
    "![绘图元素](./people_draw.jpg)\n",
    "\n",
    "在matplotlib中，图由以下基本元素组成：\n",
    "\n",
    "- Figure对象 画布\n",
    "- Axes对象 坐标系 / Subplot子图\n",
    "- Axis对象 坐标轴\n",
    "- Artist对象 基本元素\n",
    "\n",
    "\n",
    "\n",
    "绘图流程基本流程：\n",
    "\n",
    "1. 创建Figure对象\n",
    "2. Fgure对象创建一个或多个Axes对象\n",
    "3. Axes对象的方法来创建各种简单的Artist对象"
   ]
  },
  {
   "cell_type": "markdown",
   "metadata": {},
   "source": [
    "# 两种绘图方式\n",
    "\n",
    "matplotlib绘图时，有2种常用的方式，\n",
    "- 一种是显式创建画布和坐标系对象，然后调用它们方法进行画图（面向对象风格）\n",
    "- 另外一种是直接使用```pyplot.plot()```函数自动的创建和管理画布、坐标系对象（```pyplot.plot()```函数风格）"
   ]
  },
  {
   "cell_type": "markdown",
   "metadata": {},
   "source": [
    "## 方式一：面向对象风格，显式依次创建画布->在画布上创建坐标系->在坐标系上画图（推荐）"
   ]
  },
  {
   "cell_type": "code",
   "execution_count": null,
   "metadata": {},
   "outputs": [],
   "source": [
    "fig = plt.figure() # 创建画布\n",
    "ax1 = fig.add_subplot(2,2,1) # 在画布上创建坐标系\n",
    "ax2 = fig.add_subplot(2,2,2) # 在画布上创建坐标系\n",
    "ax4 = fig.add_subplot(2,2,4) # 在画布上创建坐标系\n",
    "ax1.plot(np.arange(10)) # 在坐标系上画图\n",
    "ax4.plot(np.arange(10),np.arange(10)**2) # 在坐标系上画图\n",
    "plt.show()"
   ]
  },
  {
   "cell_type": "code",
   "execution_count": null,
   "metadata": {},
   "outputs": [],
   "source": [
    "fig, ax = plt.subplots()  # 创建含有1个坐标系的画布\n",
    "fig, axs = plt.subplots(2, 2)  # 创建含有2*2个坐标系的画布"
   ]
  },
  {
   "cell_type": "markdown",
   "metadata": {},
   "source": [
    "## 方式二：```pyplot.plot()```函数风格，不显式创建画布、坐标系，直接画图（不推荐）\n",
    "\n",
    "python matplotlib库是从MATLIB启发而来，所以在设计上保留了许多类似MATLIB风格的交互式接口，```pyplot.plot()```正是其中一个。\n",
    "\n",
    "当没有显示指定坐标系，直接使用```pyplot.plot()```接口画图时，matplotlib就会在最后一个用过的坐标系画图（如果没有就自动创建一个）。"
   ]
  },
  {
   "cell_type": "code",
   "execution_count": null,
   "metadata": {},
   "outputs": [],
   "source": [
    "plt.plot([1,2,3,4],[4,2,1,3])\n",
    "print('当前Figure画布对象ID:',id(plt.gcf()))\n",
    "print('当前Axes坐标系对象ID:',id(plt.gca()))"
   ]
  },
  {
   "cell_type": "code",
   "execution_count": null,
   "metadata": {},
   "outputs": [],
   "source": [
    "print('当前Figure画布对象ID:',id(plt.gcf()))\n",
    "print('当前Axes坐标系对象ID:',id(plt.gca()))"
   ]
  },
  {
   "cell_type": "markdown",
   "metadata": {},
   "source": [
    "## 小结\n",
    "\n",
    "- 以```pyplot.plot()```为代表的函数式操作，表达简洁，但是没有体现出真正画图的实现过程，例如甚至当没有搞清楚Figure Axes Subplot 等概念的时候，依然可以轻松的用pyplot函数画图。当子图较多的时候，对子图的操作容易陷入混乱，因为从代码上并不能直接观察出到底在操作那张子图。\n",
    "- 以 ```.plot```为代表的对象式操作，表达明确，分步生成 Figure 和 Axes/Subplot，操作过程直接可以看出是在那张子图上操作。但是缺点就是，需要写的代码比较多，不够简洁。\n",
    "- 还是看使用场景，假如不需要画子图的时候，用一用简单的pyplot方法也没什么不好。但是初学者最好还是能够坚持先使用Axes对象属性的方法，这样对于画图的实现过程可以加深理解。"
   ]
  },
  {
   "cell_type": "markdown",
   "metadata": {},
   "source": [
    "# 后端渲染\n",
    "\n",
    "## matplotlib绘图场景:\n",
    "- python shell 处理数据\n",
    "- 图形应用程序用以展示数据\n",
    "- jupyter用户交互式数据分析\n",
    "- Web后台服务器批量生成动态数据图片等\n",
    "\n",
    "## matplotlib拥有多种后端，能轻松处理以上场景：\n",
    "\n",
    "- 交付式后端：应用于PyQt/PySide, PyGObject, Tkinter, wxPython, macOS/Cocoa 等程序中\n",
    "- 非交互式后端：用于生成图片文件(PNG, SVG, PDF, PS等)\n",
    "\n",
    "## 设置matplotlib后端的三种方法：\n",
    "- 在matplotlibrc文件中设置rcParams[\"backend\"]参数\n",
    "- 设置MPLBACKEND环境变量\n",
    "- 使用matplotlib.use()韩式\n",
    "\n",
    "## jupyter notebook 中使用\n",
    "```\n",
    "%matplotlib inline \n",
    "```\n",
    "jupyter魔法函数，设置matpplotlib后端为```inline```。\n",
    "\n",
    "jupyter中的```inline```后端支持matplotlib画图后直接自动显示图像，不用再额外执行```plt.show()```"
   ]
  },
  {
   "cell_type": "code",
   "execution_count": null,
   "metadata": {},
   "outputs": [],
   "source": [
    "%matplotlib inline"
   ]
  },
  {
   "cell_type": "code",
   "execution_count": null,
   "metadata": {},
   "outputs": [],
   "source": [
    "plt.plot(range(10))"
   ]
  },
  {
   "cell_type": "markdown",
   "metadata": {},
   "source": [
    "# plot绘图函数详解\n",
    "\n",
    "Axes对象的plot()方法比 [pyplot.plot()](https://matplotlib.org/stable/api/_as_gen/matplotlib.pyplot.plot.html#matplotlib.pyplot.plot)函数在参数上更为灵活，pyplot.plot()的调用参数用法一般也适用于 Axes对象的plot()方法。\n",
    "\n",
    "\n",
    "```\n",
    "fmt = '[marker][line][color]'\n",
    "\n",
    "plot([x], y, [fmt], *, data=None, **kwargs) # 参数格式\n",
    "plot([x], y, [fmt], [x2], y2, [fmt2], ..., **kwargs) # 参数格式\n",
    "\n",
    "调用示例：\n",
    ">>> plot(x, y)        # plot x and y using default line style and color\n",
    ">>> plot(x, y, 'bo')  # plot x and y using blue circle markers\n",
    ">>> plot(y)           # plot y using x as index array 0..N-1\n",
    ">>> plot(y, 'r+')     # ditto, but with red plusses\n",
    "\n",
    ">>> plot(x, y, 'go--', linewidth=2, markersize=12)\n",
    ">>> plot(x, y, color='green', marker='o', linestyle='dashed',\n",
    "...      linewidth=2, markersize=12)\n",
    "```\n",
    "\n",
    "![绘图元素](https://matplotlib.org/stable/_images/anatomy.png)"
   ]
  },
  {
   "cell_type": "code",
   "execution_count": null,
   "metadata": {},
   "outputs": [],
   "source": [
    "t = np.arange(0., 5., 0.2)\n",
    "# red dashes, blue squares and green triangles\n",
    "plt.plot(t, t, 'r--', t, t**2, 'bs', t, t**3, 'g^') # fmt = '[marker][line][color]'\n",
    "plt.title('测试')\n",
    "plt.ylabel('Y轴')\n",
    "plt.text(1, 80, r'文本')\n",
    "plt.grid(True)\n",
    "plt.show()"
   ]
  },
  {
   "cell_type": "markdown",
   "metadata": {},
   "source": [
    "# 一些入门例子"
   ]
  },
  {
   "cell_type": "code",
   "execution_count": null,
   "metadata": {},
   "outputs": [],
   "source": [
    "t = np.arange(0.0, 2.0, 0.01)\n",
    "s = 1 + np.sin(2 * np.pi * t)\n",
    "fig, ax = plt.subplots()\n",
    "ax.plot(t, s)\n",
    "ax.set(xlabel='time (s)', ylabel='voltage (mV)',\n",
    "       title='曲线图')\n",
    "ax.grid()\n",
    "plt.show()"
   ]
  },
  {
   "cell_type": "code",
   "execution_count": null,
   "metadata": {},
   "outputs": [],
   "source": [
    "x1 = np.linspace(0.0, 5.0)\n",
    "x2 = np.linspace(0.0, 2.0)\n",
    "\n",
    "y1 = np.cos(2 * np.pi * x1) * np.exp(-x1)\n",
    "y2 = np.cos(2 * np.pi * x2)\n",
    "\n",
    "fig, (ax1, ax2) = plt.subplots(2, 1)\n",
    "fig.suptitle('2个子图')\n",
    "\n",
    "ax1.plot(x1, y1, 'o-')\n",
    "ax1.set_ylabel('Damped oscillation')\n",
    "\n",
    "ax2.plot(x2, y2, '.-')\n",
    "ax2.set_xlabel('time (s)')\n",
    "ax2.set_ylabel('Undamped')\n",
    "\n",
    "plt.show()"
   ]
  },
  {
   "cell_type": "code",
   "execution_count": null,
   "metadata": {},
   "outputs": [],
   "source": [
    "np.random.seed(19680801)\n",
    "data = np.random.randn(2, 100)\n",
    "\n",
    "fig, axs = plt.subplots(2, 2, figsize=(5, 5))\n",
    "axs[0, 0].hist(data[0])\n",
    "axs[1, 0].scatter(data[0], data[1])\n",
    "axs[0, 1].plot(data[0], data[1])\n",
    "axs[1, 1].hist2d(data[0], data[1])\n",
    "fig.suptitle('4个子图')\n",
    "plt.show()"
   ]
  },
  {
   "cell_type": "code",
   "execution_count": null,
   "metadata": {},
   "outputs": [],
   "source": [
    "Z = np.random.rand(6, 10)\n",
    "x = np.arange(-0.5, 10, 1)  # len = 11\n",
    "y = np.arange(4.5, 11, 1)  # len = 7\n",
    "fig, ax = plt.subplots()\n",
    "ax.pcolormesh(x, y, Z)\n",
    "ax.set_title('彩色网格图')\n",
    "plt.show()"
   ]
  },
  {
   "cell_type": "code",
   "execution_count": null,
   "metadata": {},
   "outputs": [],
   "source": [
    "# API doc: https://matplotlib.org/stable/api/_as_gen/matplotlib.pyplot.hist.html\n",
    "np.random.seed(19680801)\n",
    "# example data\n",
    "mu = 100  # mean of distribution\n",
    "sigma = 15  # standard deviation of distribution\n",
    "x = mu + sigma * np.random.randn(437)\n",
    "num_bins = 50\n",
    "fig, ax = plt.subplots()\n",
    "# the histogram of the data\n",
    "n, bins, patches = ax.hist(x, num_bins, density=True)\n",
    "# add a 'best fit' line\n",
    "y = ((1 / (np.sqrt(2 * np.pi) * sigma)) *\n",
    "     np.exp(-0.5 * (1 / sigma * (bins - mu))**2))\n",
    "ax.plot(bins, y, '--')\n",
    "ax.set_xlabel('Smarts')\n",
    "ax.set_ylabel('Probability density')\n",
    "ax.set_title('直方图')\n",
    "ax.text(60,0.035,r'IQ: $\\mu=100$, $\\sigma=15$')\n",
    "# Tweak spacing to prevent clipping of ylabel\n",
    "fig.tight_layout()\n",
    "plt.show()"
   ]
  },
  {
   "cell_type": "markdown",
   "metadata": {},
   "source": [
    "![](./example.png)"
   ]
  },
  {
   "cell_type": "markdown",
   "metadata": {},
   "source": [
    "# 现有工作中常用到的例子"
   ]
  },
  {
   "cell_type": "code",
   "execution_count": null,
   "metadata": {},
   "outputs": [],
   "source": [
    "pd.read_excel('./data_dict.xls')"
   ]
  },
  {
   "cell_type": "code",
   "execution_count": null,
   "metadata": {},
   "outputs": [],
   "source": [
    "data = pd.read_csv('cs-training.csv',index_col=0)"
   ]
  },
  {
   "cell_type": "code",
   "execution_count": null,
   "metadata": {},
   "outputs": [],
   "source": [
    "data.shape"
   ]
  },
  {
   "cell_type": "code",
   "execution_count": null,
   "metadata": {},
   "outputs": [],
   "source": [
    "data"
   ]
  },
  {
   "cell_type": "code",
   "execution_count": null,
   "metadata": {},
   "outputs": [],
   "source": [
    "data.SeriousDlqin2yrs.value_counts()"
   ]
  },
  {
   "cell_type": "code",
   "execution_count": null,
   "metadata": {},
   "outputs": [],
   "source": [
    "from sklearn.linear_model import LogisticRegression\n",
    "from sklearn.model_selection import train_test_split\n",
    "from sklearn.metrics import roc_curve,auc\n",
    "import toad"
   ]
  },
  {
   "cell_type": "code",
   "execution_count": null,
   "metadata": {},
   "outputs": [],
   "source": [
    "data.describe()"
   ]
  },
  {
   "cell_type": "code",
   "execution_count": null,
   "metadata": {},
   "outputs": [],
   "source": [
    "data.shape"
   ]
  },
  {
   "cell_type": "code",
   "execution_count": null,
   "metadata": {},
   "outputs": [],
   "source": [
    "train, test = train_test_split(data, test_size=1/3, random_state=42)\n",
    "train.shape,test.shape"
   ]
  },
  {
   "cell_type": "code",
   "execution_count": null,
   "metadata": {},
   "outputs": [],
   "source": [
    "combiner = toad.transform.Combiner()\n",
    "combiner.fit(train,y='SeriousDlqin2yrs',method='dt') # method: 'dt', 'chi', 'quantile', 'step', 'kmeans' "
   ]
  },
  {
   "cell_type": "code",
   "execution_count": null,
   "metadata": {},
   "outputs": [],
   "source": [
    "transer = toad.transform.WOETransformer()\n",
    "transer.fit(combiner.transform(train,y='SeriousDlqin2yrs'),y='SeriousDlqin2yrs')"
   ]
  },
  {
   "cell_type": "code",
   "execution_count": null,
   "metadata": {},
   "outputs": [],
   "source": [
    "train_woe = transer.transform(combiner.transform(train))\n",
    "test_woe = transer.transform(combiner.transform(test))\n",
    "train_woe.shape,test_woe.shape"
   ]
  },
  {
   "cell_type": "code",
   "execution_count": null,
   "metadata": {},
   "outputs": [],
   "source": [
    "model = LogisticRegression()\n",
    "X = train_woe.drop(columns='SeriousDlqin2yrs')\n",
    "y = train_woe['SeriousDlqin2yrs']\n",
    "model.fit(X,y)"
   ]
  },
  {
   "cell_type": "code",
   "execution_count": null,
   "metadata": {},
   "outputs": [],
   "source": [
    "pred_y = model.predict_proba(X)[:,1]"
   ]
  },
  {
   "cell_type": "code",
   "execution_count": null,
   "metadata": {},
   "outputs": [],
   "source": [
    "fpr,tpr,_ = roc_curve(y,pred_y,pos_label=1,drop_intermediate=True)"
   ]
  },
  {
   "cell_type": "code",
   "execution_count": null,
   "metadata": {},
   "outputs": [],
   "source": [
    "max(abs(fpr-tpr))"
   ]
  },
  {
   "cell_type": "code",
   "execution_count": null,
   "metadata": {},
   "outputs": [],
   "source": [
    "max(fpr-tpr)"
   ]
  },
  {
   "cell_type": "code",
   "execution_count": null,
   "metadata": {},
   "outputs": [],
   "source": [
    "data.SeriousDlqin2yrs.value_counts()"
   ]
  },
  {
   "cell_type": "code",
   "execution_count": null,
   "metadata": {},
   "outputs": [],
   "source": [
    "#------------------------ROC with auc & ks------------------------#\n",
    "# 数据准备\n",
    "fpr,tpr,_ = roc_curve(y,pred_y,pos_label=1,drop_intermediate=True)\n",
    "auc_score = auc(fpr,tpr)\n",
    "w=tpr-fpr\n",
    "ks_score=w.max()\n",
    "ks_x=fpr[w.argmax()]\n",
    "ks_y=tpr[w.argmax()]\n",
    "# 开始绘图\n",
    "fig,ax=plt.subplots()\n",
    "ax.plot(fpr,tpr,'-b',label='AUC=%.3f'%auc_score)\n",
    "ax.plot([0,1],[0,1],'--c')\n",
    "ax.plot([ks_x,ks_x],[ks_x,ks_y],'--r')\n",
    "ax.text(ks_x,(ks_x+ks_y)/2,' KS=%.3f'%ks_score)\n",
    "ax.legend()\n",
    "ax.set_xlabel('fpr')\n",
    "ax.set_ylabel('tpr')\n",
    "ax.set_title('ROC')\n",
    "plt.show()"
   ]
  },
  {
   "cell_type": "code",
   "execution_count": null,
   "metadata": {
    "scrolled": true
   },
   "outputs": [],
   "source": [
    "#------------------------KS------------------------#\n",
    "# 数据准备\n",
    "dt = pd.DataFrame({'tpr':tpr,'fpr':fpr})\n",
    "dt['ks'] = dt['tpr']-dt['fpr']\n",
    "dt.index = (dt.index+1)/len(dt)\n",
    "ks_value = dt['ks'].max()\n",
    "ks_idx = dt['ks'].idxmax()\n",
    "tpr_value =dt['tpr'].loc[ks_idx]\n",
    "fpr_value =dt['fpr'].loc[ks_idx]\n",
    "# 开始绘图\n",
    "ax = dt.plot(color=['red','green','blue'])\n",
    "ax.set_title('KS')\n",
    "ax.axvline(ks_idx,color ='r',linestyle='--')\n",
    "ax.axhline(ks_value,color ='k',linestyle=':',linewidth=1)\n",
    "ax.axhline(tpr_value,color='k',linestyle=':',linewidth=1)\n",
    "ax.axhline(fpr_value,color ='k',linestyle=':',linewidth=1)\n",
    "ax.text(ks_idx,ks_value+0.03,' KS=%.3f'%ks_value)\n",
    "ax.set_xlabel('population %')\n",
    "ax.set_ylabel('tpr/fpr/ks')\n",
    "plt.show()"
   ]
  },
  {
   "cell_type": "code",
   "execution_count": null,
   "metadata": {},
   "outputs": [],
   "source": []
  },
  {
   "cell_type": "code",
   "execution_count": null,
   "metadata": {},
   "outputs": [],
   "source": []
  },
  {
   "cell_type": "code",
   "execution_count": null,
   "metadata": {},
   "outputs": [],
   "source": []
  },
  {
   "cell_type": "code",
   "execution_count": null,
   "metadata": {},
   "outputs": [],
   "source": []
  },
  {
   "cell_type": "code",
   "execution_count": null,
   "metadata": {},
   "outputs": [],
   "source": []
  },
  {
   "cell_type": "code",
   "execution_count": null,
   "metadata": {},
   "outputs": [],
   "source": []
  },
  {
   "cell_type": "code",
   "execution_count": null,
   "metadata": {},
   "outputs": [],
   "source": []
  },
  {
   "cell_type": "code",
   "execution_count": null,
   "metadata": {},
   "outputs": [],
   "source": []
  }
 ],
 "metadata": {
  "kernelspec": {
   "display_name": "Python 3",
   "language": "python",
   "name": "python3"
  },
  "language_info": {
   "codemirror_mode": {
    "name": "ipython",
    "version": 3
   },
   "file_extension": ".py",
   "mimetype": "text/x-python",
   "name": "python",
   "nbconvert_exporter": "python",
   "pygments_lexer": "ipython3",
   "version": "3.6.6"
  }
 },
 "nbformat": 4,
 "nbformat_minor": 4
}
